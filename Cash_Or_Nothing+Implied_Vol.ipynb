{
 "cells": [
  {
   "cell_type": "markdown",
   "metadata": {},
   "source": [
    "ME200, Johannes Ruf and Luitgard Veraart"
   ]
  },
  {
   "cell_type": "markdown",
   "metadata": {},
   "source": [
    "# Day 12: Case study and implied volatilities\n",
    "\n",
    "In this worksheet we will be providing a case study for pricing a cash-or-nothing call option using different methods. \n",
    "\n",
    "Furthermore, we will be analysing the concept of implied volatilities in the Black-Schole model. "
   ]
  },
  {
   "cell_type": "code",
   "execution_count": 1,
   "metadata": {},
   "outputs": [],
   "source": [
    "import numpy as np\n",
    "import matplotlib.pyplot as plt\n",
    "from scipy.stats import norm\n",
    "rng = np.random.default_rng(seed=22446688)"
   ]
  },
  {
   "cell_type": "markdown",
   "metadata": {},
   "source": [
    "## Pricing a cash-or-nothing call option in the Black-Scholes model"
   ]
  },
  {
   "cell_type": "markdown",
   "metadata": {},
   "source": [
    "Consider the following European digital option with payoff at maturity $T$ given by \n",
    "\\begin{align*}\n",
    "L \\mathbf{1}_{\\{S_T \\geq K\\}}, \n",
    "\\end{align*}\n",
    "where $K, L > 0$ and the indicator $\\mathbf{1}_{\\{S_T \\geq K\\}}$ is 1 if $S_T \\geq K$ and 0 otherwise. Hence, this is a European option on $S_T$ that pays nothing if at the maturity date $S_T < K$ and otherwise it pays $L$. \n",
    "What is its time-0 price? \n",
    "\n",
    "In the lecture notes we have seen that its time-$0$ price is given by \n",
    "\\begin{align*}\n",
    "V_0 &=  L e^{-rT} \\Phi(D_1 - \\sigma \\sqrt{T}), \n",
    "\\end{align*}\n",
    "\n",
    "We implement this formula below. "
   ]
  },
  {
   "cell_type": "code",
   "execution_count": 2,
   "metadata": {},
   "outputs": [],
   "source": [
    "def cash_or_nothing_call(S0, L, K, r, T, sigma):\n",
    "    d1 = (np.log(S0 / K) + (r + 0.5 * sigma**2) * T)/(sigma * np.sqrt(T))\n",
    "    d2 = d1 - sigma * np.sqrt(T)\n",
    "    price = L * np.exp(-r * T) * norm.cdf(d2, loc=0, scale=1)\n",
    "    return price"
   ]
  },
  {
   "cell_type": "markdown",
   "metadata": {},
   "source": [
    "Next, we compute the price using a Monte Carlo estimator and an Antithetic Variates estimator. We start with the Monte Carlo estimator. We re-use the function terminal_stockprice from the previous notebook. This funtion generates a sample of termial stock prices in the Black-Scholes model. "
   ]
  },
  {
   "cell_type": "code",
   "execution_count": 3,
   "metadata": {},
   "outputs": [],
   "source": [
    "def terminal_stockprice(rng, S0, T, r, sigma, samplesize):\n",
    "    mystandardnormalsample = rng.standard_normal(size=samplesize)\n",
    "    tmp1 = (r - 0.5*(sigma ** 2)) * T\n",
    "    tmp2 = sigma * np.sqrt(T) * mystandardnormalsample\n",
    "    stockprice = S0 * np.exp(tmp1 + tmp2)\n",
    "    return stockprice"
   ]
  },
  {
   "cell_type": "markdown",
   "metadata": {},
   "source": [
    "Next, we write a function that compute a Monte Carlo estimate together with a confidence interval for the time-$0$ price of a cash-or nothing option. "
   ]
  },
  {
   "cell_type": "code",
   "execution_count": 4,
   "metadata": {},
   "outputs": [],
   "source": [
    "def bs_cashnothingcall_mc(rng, S0, L, K, T, r, sigma, samplesize, myepsilon):\n",
    "    # Generate terminal stock prices.\n",
    "    mystockprice = terminal_stockprice(rng, S0, T, r, sigma, samplesize)\n",
    "    # Compute payoffs.\n",
    "    payoffs = np.zeros(samplesize)\n",
    "    payoffs[(mystockprice > K)] = L\n",
    "    # Discount payoffs\n",
    "    discountedpayoffs = np.exp(- r * T)*payoffs\n",
    "    # Compute MC price\n",
    "    price = np.mean(discountedpayoffs)\n",
    "    # Compute confidence interval next\n",
    "    standarddev_rv = np.std(discountedpayoffs, ddof=1)\n",
    "    standarddev_mcest = standarddev_rv / np.sqrt(samplesize)\n",
    "    aepsilon = norm.ppf(1.0 - myepsilon * 0.5)\n",
    "    # Left boundary of CI\n",
    "    ci_left = price - aepsilon * standarddev_mcest\n",
    "    # Right boundary of CI\n",
    "    ci_right = price + aepsilon * standarddev_mcest\n",
    "    return price, standarddev_mcest, ci_left, ci_right"
   ]
  },
  {
   "cell_type": "markdown",
   "metadata": {},
   "source": [
    "In the following we provide some illustration what happens in line 3-6 in the function above: "
   ]
  },
  {
   "cell_type": "code",
   "execution_count": 5,
   "metadata": {},
   "outputs": [
    {
     "name": "stdout",
     "output_type": "stream",
     "text": [
      "[ True False False  True False  True  True False False  True]\n",
      "[5. 0. 0. 5. 0. 5. 5. 0. 0. 5.]\n"
     ]
    }
   ],
   "source": [
    "mystockprice = terminal_stockprice(rng, S0=100, T=1, r=0.01, sigma=0.2, samplesize=10)\n",
    "payoffs = np.zeros(10)\n",
    "payoffs[(mystockprice > 100)] = 5\n",
    "print((mystockprice > 100))\n",
    "print(payoffs)"
   ]
  },
  {
   "cell_type": "markdown",
   "metadata": {},
   "source": [
    "Next, we consider the antithetic variate estimator. We can re-use the function that generates the terminal stock price using pairs $(X, -X)$ where $X \\sim N(0, 1)$ from the previous notebook. "
   ]
  },
  {
   "cell_type": "code",
   "execution_count": 6,
   "metadata": {},
   "outputs": [],
   "source": [
    "def terminal_stockprice_av(rng, S0, T, r, sigma, halfsamplesize):\n",
    "    \"\"\"Function computes terminal stock prices based on antithetic pairs. \"\"\"\n",
    "    mynormals1 = rng.standard_normal(halfsamplesize)\n",
    "    mynormals2 = - mynormals1\n",
    "    tmp1 = (r - 0.5*sigma ** 2) * T\n",
    "    tmp2 = sigma * np.sqrt(T) * mynormals1\n",
    "    tmp3 = sigma * np.sqrt(T) * mynormals2\n",
    "    stockprice1 = S0 * np.exp(tmp1 + tmp2)\n",
    "    stockprice2 = S0 * np.exp(tmp1 + tmp3)\n",
    "    allstockprices = np.concatenate((stockprice1, stockprice2))\n",
    "    return stockprice1, stockprice2, allstockprices"
   ]
  },
  {
   "cell_type": "markdown",
   "metadata": {},
   "source": [
    "Next, we write a function that computes an antithetic variates estimate together with a confidence interval for the cash-or-nothing call option in the Black-Scholes model. "
   ]
  },
  {
   "cell_type": "code",
   "execution_count": 7,
   "metadata": {},
   "outputs": [],
   "source": [
    "def bs_cashnothingcall_av(rng, S0, L, K, T, r, sigma, halfsamplesize, myepsilon):\n",
    "    \"\"\" Antithethic variate estimation for European call price in BS model.\"\"\"\n",
    "    # Note that 2*halfsamplesize random variables will be used in the AV estimator.\n",
    "    # Generate terminal stock prices.\n",
    "    mystockprices = terminal_stockprice_av(rng, S0, T, r, sigma, halfsamplesize)\n",
    "    # Compute payoffs.\n",
    "    payoffs1 = np.zeros(halfsamplesize)\n",
    "    payoffs1[(mystockprices[0] > K)] = L\n",
    "    payoffs2 = np.zeros(halfsamplesize)\n",
    "    payoffs2[(mystockprices[1] > K)] = L\n",
    "    \n",
    "    # Discount payoffs\n",
    "    discpayoffs1 = np.exp(- r * T)*payoffs1\n",
    "    discpayoffs2 = np.exp(- r * T)*payoffs2\n",
    "    thecov = np.cov(discpayoffs1, discpayoffs2, ddof=1)[0, 1]\n",
    "    possiblereduction = thecov / (2 * halfsamplesize)\n",
    "    discpayoffs = np.concatenate((discpayoffs1, discpayoffs2))\n",
    "    price = np.mean(discpayoffs)\n",
    "    standarddev_rv = np.std(discpayoffs, ddof=1)\n",
    "    standarddev_avest = standarddev_rv / np.sqrt(2 * halfsamplesize)\n",
    "    aepsilon = norm.ppf(1.0 - myepsilon * 0.5)\n",
    "    ci_left = price - aepsilon * standarddev_avest\n",
    "    ci_right = price + aepsilon * standarddev_avest\n",
    "    return price, standarddev_avest, ci_left, ci_right, possiblereduction"
   ]
  },
  {
   "cell_type": "markdown",
   "metadata": {},
   "source": [
    "Finally, we consider a specific example by choosing some model parameters. We compute the time-$0$ price of the cash-or-nothing European call option in the Black-Scholes model using the analytical formula, a Monte Carlo estimator and an antithetic variates estimator. "
   ]
  },
  {
   "cell_type": "code",
   "execution_count": 8,
   "metadata": {},
   "outputs": [
    {
     "name": "stdout",
     "output_type": "stream",
     "text": [
      "----------------\n",
      "The analytical option price is 44.0382\n",
      "-----------------\n",
      "MC price: 44.0145 stdev of MC est: 0.1110\n",
      "CI based on MC is (43.7969, 44.2321)\n",
      "----------------\n",
      "AV price: 44.0330 and stdev of AV est: 0.1110\n",
      "CI based on AV is (43.8154, 44.2506)\n",
      "Note that sample covariance/(2n) is -0.0097\n"
     ]
    }
   ],
   "source": [
    "# Defining some model parameters\n",
    "S0 = 100.0\n",
    "K = 100.0\n",
    "L = 100.0\n",
    "T = 1.0\n",
    "r = 0.0\n",
    "sigma = 0.3\n",
    "halfsamplesize = 100000\n",
    "samplesize = 2 * halfsamplesize \n",
    "myepsilon = 0.05\n",
    "mydig = 8\n",
    "\n",
    "print('----------------')\n",
    "print('The analytical option price is {:.4f}'.format(cash_or_nothing_call(S0, L, K, r, T, sigma)))\n",
    "print('-----------------')\n",
    "MCresults = bs_cashnothingcall_mc(rng, S0, L, K, T, r, sigma, samplesize, myepsilon)\n",
    "print('MC price: {:.4f} stdev of MC est: {:.4f}'.format(MCresults[0], MCresults[1]))\n",
    "print('CI based on MC is ({:.4f}, {:.4f})'.format(MCresults[2], MCresults[3]))\n",
    "\n",
    "print('----------------')\n",
    "AVresults = bs_cashnothingcall_av(rng, S0, L, K, T, r, sigma, halfsamplesize, myepsilon)\n",
    "print('AV price: {:.4f} and stdev of AV est: {:.4f}'.format(AVresults[0], AVresults[1]))\n",
    "print('CI based on AV is ({:.4f}, {:.4f})'.format(AVresults[2], AVresults[3]))\n",
    "print('Note that sample covariance/(2n) is {:.4f}'.format(AVresults[4]))"
   ]
  },
  {
   "cell_type": "markdown",
   "metadata": {},
   "source": [
    "We see that both estimates are close to the analytical option price. The antithetic variates estimator has a slightly smaller variance than the Monte Carlo estimator for the chosen parameters. "
   ]
  },
  {
   "cell_type": "markdown",
   "metadata": {},
   "source": [
    "Next, we will consider implied volatilies in the Black-Scholes market.  \n",
    "\n",
    "## Black-Scholes option pricing formula for European call option\n",
    "We will first provide an implementation of the Black-Scholes option pricing formula for a European Call option. \n",
    "\n",
    "Recall that the time-t price of a European call option with strike $K$ and maturity $T$ in the Black-Scholes model is given by\n",
    "\\begin{align*}\n",
    "C_t = S_t \\Phi(d_1) - K e^{-r(T-t)} \\Phi(d_2), \n",
    "\\end{align*}\n",
    "where $S_t$ denotes the stock price at time $t$, $r > 0$ is the riskless interest rate, $\\sigma > 0$ is the volatility of the stock price and\n",
    "\\begin{align*}\n",
    "d_1 & = \\frac{\\log(\\frac{S_t}{K}) + (r + 0.5 \\sigma^2)(T-t) }{\\sigma \\sqrt{T-t}}, \\\\\n",
    "d_2 & = d_1 - \\sigma \\sqrt{T-t}.  \n",
    "\\end{align*}"
   ]
  },
  {
   "cell_type": "markdown",
   "metadata": {},
   "source": [
    "In the following we will set $\\tau=T-t$. Then, $\\tau$ is the time left until the contract expires. "
   ]
  },
  {
   "cell_type": "code",
   "execution_count": 9,
   "metadata": {},
   "outputs": [
    {
     "name": "stdout",
     "output_type": "stream",
     "text": [
      "Price of European call option is: 7.1156\n"
     ]
    }
   ],
   "source": [
    "def black_scholes_call(S, K, r, tau, sigma):\n",
    "    d1 = (np.log(S / K) + (r + 0.5 * sigma**2) * tau)/(sigma * np.sqrt(tau))\n",
    "    d2 = d1 - sigma * np.sqrt(tau)\n",
    "    tmp1 = S * norm.cdf(d1, loc=0, scale=1)\n",
    "    tmp2 = K * np.exp(-r * tau) * norm.cdf(d2, loc=0, scale=1)\n",
    "    price = tmp1 - tmp2\n",
    "    return price\n",
    "\n",
    "\n",
    "myprice = black_scholes_call(S=50, K=50, r=0.05, tau=1.0, sigma=0.3)\n",
    "print('Price of European call option is: {:.4f}'.format(myprice))"
   ]
  },
  {
   "cell_type": "code",
   "execution_count": 10,
   "metadata": {},
   "outputs": [
    {
     "name": "stdout",
     "output_type": "stream",
     "text": [
      "Vega = 18.9716\n"
     ]
    }
   ],
   "source": [
    "def bs_vega(S, K, r, tau, sigma):\n",
    "    d1 = (np.log(S / K) + (r + 0.5 * sigma**2) * tau)/(sigma * np.sqrt(tau))\n",
    "    vega = S * np.sqrt(tau) * norm.pdf(d1, loc=0, scale=1)\n",
    "    # print(\"d1=\", d1)\n",
    "    return vega\n",
    "\n",
    "myvega = bs_vega(S=50, K=50, r=0.05, tau=1.0, sigma=0.3)\n",
    "print('Vega = {:.4f}'.format(myvega))"
   ]
  },
  {
   "cell_type": "code",
   "execution_count": 11,
   "metadata": {},
   "outputs": [
    {
     "name": "stdout",
     "output_type": "stream",
     "text": [
      "Price of European call option is: 7.1156\n",
      "Implied vol is 0.3000\n"
     ]
    }
   ],
   "source": [
    "def find_impliedvol_Newton(S, K, r, tau, marketprice, initialguess):\n",
    "    sigmaold = initialguess\n",
    "    maxiteration = 100\n",
    "    mydiff = 1\n",
    "    for i in range(maxiteration):\n",
    "            callprice = black_scholes_call(S, K, r, tau, sigmaold)\n",
    "            vega = bs_vega(S, K, r, tau, sigmaold)\n",
    "            if (vega < 0.000000001):\n",
    "                # print(\"problem: i= \", i, \"sigmaold = \", sigmaold, \"callprice= \", callprice, \"and vega = \", vega)\n",
    "                return \"Error in vega\"\n",
    "            else: \n",
    "                sigmanew =  sigmaold - (callprice - marketprice) / vega\n",
    "                mydiff = np.abs(sigmaold - sigmanew)\n",
    "                sigmaold = sigmanew\n",
    "            \n",
    "            if (mydiff < 0.0000001): \n",
    "                return sigmaold\n",
    "    return \"Max iteration reached\"\n",
    "\n",
    "\n",
    "myprice = black_scholes_call(S=50, K=50, r=0.05, tau=1.0, sigma=0.3)\n",
    "print('Price of European call option is: {:.4f}'.format(myprice))\n",
    "myimpliedvol= find_impliedvol_Newton(S=50, K=50, r=0.05, tau=1.0, marketprice=7.11562739299, initialguess=0.8)\n",
    "print('Implied vol is {:.4f}'.format(myimpliedvol))"
   ]
  },
  {
   "cell_type": "code",
   "execution_count": 12,
   "metadata": {},
   "outputs": [
    {
     "data": {
      "image/png": "[encoded data removed]",
      "text/plain": [
       "<Figure size 432x288 with 2 Axes>"
      ]
     },
     "metadata": {
      "needs_background": "light"
     },
     "output_type": "display_data"
    }
   ],
   "source": [
    "numberofsteps = 1000\n",
    "sigmas = np.linspace(start=0.1, stop=1, num=numberofsteps)\n",
    "pricediff = np.zeros(numberofsteps)\n",
    "vegas = np.zeros(numberofsteps)\n",
    "\n",
    "for i in range (numberofsteps): \n",
    "    pricediff[i] = black_scholes_call(S=50, K=50, r=0.05, tau=1, sigma=sigmas[i]) - 7.11562739299 \n",
    "    vegas[i] = bs_vega(S=50, K=50, r=0.05, tau=1, sigma=sigmas[i])\n",
    "   \n",
    "    \n",
    "fig, axs = plt.subplots(nrows=1, ncols=2)\n",
    "axs[0].plot(sigmas, pricediff)\n",
    "axs[0].hlines(0, xmin=sigmas[0], xmax=sigmas[-1], color=\"red\")\n",
    "axs[1].plot(sigmas, vegas);"
   ]
  },
  {
   "cell_type": "markdown",
   "metadata": {},
   "source": [
    "### Stylised example for implied volatilities"
   ]
  },
  {
   "cell_type": "code",
   "execution_count": 13,
   "metadata": {},
   "outputs": [
    {
     "data": {
      "image/png": "[encoded data removed]",
      "text/plain": [
       "<Figure size 432x288 with 1 Axes>"
      ]
     },
     "metadata": {
      "needs_background": "light"
     },
     "output_type": "display_data"
    }
   ],
   "source": [
    "teststrikes = np.array([60, 70, 80, 90, 100, 110, 120])\n",
    "testprices = np.array([22, 11, 4, 1, 0.4, 0.1, 0.05])\n",
    "S0=80\n",
    "testimpliedvols1 = np.zeros(7)\n",
    "\n",
    "\n",
    "# Computing implied volatities  \n",
    "for i in range(teststrikes.size):\n",
    "    testimpliedvols1[i] = find_impliedvol_Newton(S=S0, K=teststrikes[i], r=0, tau=1, marketprice=testprices[i], initialguess=0.5)\n",
    "    \n",
    "# Plotting implied volatilities   \n",
    "fig, ax = plt.subplots(nrows=1, ncols=1)\n",
    "ax.plot(teststrikes, testimpliedvols1)\n",
    "ax.set_xlabel(\"Strike\")\n",
    "ax.set_ylabel(\"Implied volatilities\"); \n",
    "\n",
    "#fig.savefig(\"Smile1.pdf\")"
   ]
  },
  {
   "cell_type": "markdown",
   "metadata": {},
   "source": [
    "### Case study of implied volatilities\n",
    "\n",
    "In the following we consider some data of call option prices.\n",
    "Assume the data were observed on 13/06/2022  and the maturity date is 24th June 2022. \n",
    "The price of the stock on 13/06/2022 is 137.13 USD. "
   ]
  },
  {
   "cell_type": "code",
   "execution_count": 14,
   "metadata": {},
   "outputs": [],
   "source": [
    "strikes = np.linspace(start=133, stop=150, num=(150-133+1))\n",
    "strikes = np.concatenate((np.array([125, 130]), strikes), axis=None)\n",
    "callprices = np.array([13.23, 8.9, 6.7, 6.25, 5.35, 4.71, 4.15, 3.64, 3.15, 2.7, 2.34, 1.96, 1.67, 1.42, 1.14, 0.94, 0.8, 0.65, 0.52, 0.43])\n"
   ]
  },
  {
   "cell_type": "code",
   "execution_count": 15,
   "metadata": {},
   "outputs": [
    {
     "data": {
      "image/png": "[encoded data removed]",
      "text/plain": [
       "<Figure size 432x288 with 1 Axes>"
      ]
     },
     "metadata": {
      "needs_background": "light"
     },
     "output_type": "display_data"
    }
   ],
   "source": [
    "fix, ax = plt.subplots(nrows=1, ncols=1)\n",
    "ax.plot(strikes, callprices, color=\"red\")\n",
    "ax.set_xlabel(\"Strike\")\n",
    "ax.set_ylabel(\"Call price\");"
   ]
  },
  {
   "cell_type": "markdown",
   "metadata": {},
   "source": [
    "We see, that the market prices of the call option prices are decreasing in the strike price.   \n",
    "\n",
    "Next, we compute the corresponding implied volatilities. "
   ]
  },
  {
   "cell_type": "code",
   "execution_count": 16,
   "metadata": {},
   "outputs": [
    {
     "data": {
      "image/png": "[encoded data removed]",
      "text/plain": [
       "<Figure size 432x288 with 1 Axes>"
      ]
     },
     "metadata": {
      "needs_background": "light"
     },
     "output_type": "display_data"
    }
   ],
   "source": [
    "impliedvols = np.zeros(strikes.size)\n",
    "\n",
    "# Computing implied volatities corresponding to the longer maturity    \n",
    "for i in range(strikes.size):\n",
    "    impliedvols[i] = find_impliedvol_Newton(S=137.13, K=strikes[i], r=0, tau=11/356, marketprice=callprices[i], initialguess=0.5)\n",
    "    \n",
    "# Plotting implied volatilities   \n",
    "fig, ax = plt.subplots(nrows=1, ncols=1)\n",
    "ax.plot(strikes, impliedvols)\n",
    "ax.set_xlabel(\"Strike\")\n",
    "ax.set_ylabel(\"Implied volatilities\");"
   ]
  },
  {
   "cell_type": "markdown",
   "metadata": {},
   "source": [
    "We observe an overall skew pattern. Here,  $S_0=137.13$.  "
   ]
  },
  {
   "cell_type": "code",
   "execution_count": null,
   "metadata": {},
   "outputs": [],
   "source": []
  }
 ],
 "metadata": {
  "anaconda-cloud": {},
  "kernelspec": {
   "display_name": "Python 3 (ipykernel)",
   "language": "python",
   "name": "python3"
  },
  "language_info": {
   "codemirror_mode": {
    "name": "ipython",
    "version": 3
   },
   "file_extension": ".py",
   "mimetype": "text/x-python",
   "name": "python",
   "nbconvert_exporter": "python",
   "pygments_lexer": "ipython3",
   "version": "3.11.5"
  }
 },
 "nbformat": 4,
 "nbformat_minor": 4
}
